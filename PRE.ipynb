{
  "cells": [
    {
      "cell_type": "code",
      "execution_count": null,
      "metadata": {
        "colab": {
          "base_uri": "https://localhost:8080/"
        },
        "id": "q57lfk7BTGtU",
        "outputId": "b4665089-110d-4f7b-b16c-1670208abc74"
      },
      "outputs": [
        {
          "name": "stdout",
          "output_type": "stream",
          "text": [
            "Collecting flask-ngrok\n",
            "  Downloading flask_ngrok-0.0.25-py3-none-any.whl (3.1 kB)\n",
            "Requirement already satisfied: Flask>=0.8 in /usr/local/lib/python3.10/dist-packages (from flask-ngrok) (2.2.5)\n",
            "Requirement already satisfied: requests in /usr/local/lib/python3.10/dist-packages (from flask-ngrok) (2.31.0)\n",
            "Requirement already satisfied: Werkzeug>=2.2.2 in /usr/local/lib/python3.10/dist-packages (from Flask>=0.8->flask-ngrok) (3.0.1)\n",
            "Requirement already satisfied: Jinja2>=3.0 in /usr/local/lib/python3.10/dist-packages (from Flask>=0.8->flask-ngrok) (3.1.3)\n",
            "Requirement already satisfied: itsdangerous>=2.0 in /usr/local/lib/python3.10/dist-packages (from Flask>=0.8->flask-ngrok) (2.1.2)\n",
            "Requirement already satisfied: click>=8.0 in /usr/local/lib/python3.10/dist-packages (from Flask>=0.8->flask-ngrok) (8.1.7)\n",
            "Requirement already satisfied: charset-normalizer<4,>=2 in /usr/local/lib/python3.10/dist-packages (from requests->flask-ngrok) (3.3.2)\n",
            "Requirement already satisfied: idna<4,>=2.5 in /usr/local/lib/python3.10/dist-packages (from requests->flask-ngrok) (3.6)\n",
            "Requirement already satisfied: urllib3<3,>=1.21.1 in /usr/local/lib/python3.10/dist-packages (from requests->flask-ngrok) (2.0.7)\n",
            "Requirement already satisfied: certifi>=2017.4.17 in /usr/local/lib/python3.10/dist-packages (from requests->flask-ngrok) (2024.2.2)\n",
            "Requirement already satisfied: MarkupSafe>=2.0 in /usr/local/lib/python3.10/dist-packages (from Jinja2>=3.0->Flask>=0.8->flask-ngrok) (2.1.5)\n",
            "Installing collected packages: flask-ngrok\n",
            "Successfully installed flask-ngrok-0.0.25\n",
            "Collecting pytesseract\n",
            "  Downloading pytesseract-0.3.10-py3-none-any.whl (14 kB)\n",
            "Requirement already satisfied: packaging>=21.3 in /usr/local/lib/python3.10/dist-packages (from pytesseract) (24.0)\n",
            "Requirement already satisfied: Pillow>=8.0.0 in /usr/local/lib/python3.10/dist-packages (from pytesseract) (9.4.0)\n",
            "Installing collected packages: pytesseract\n",
            "Successfully installed pytesseract-0.3.10\n",
            "Reading package lists... Done\n",
            "Building dependency tree... Done\n",
            "Reading state information... Done\n",
            "The following additional packages will be installed:\n",
            "  tesseract-ocr-eng tesseract-ocr-osd\n",
            "The following NEW packages will be installed:\n",
            "  tesseract-ocr tesseract-ocr-eng tesseract-ocr-osd\n",
            "0 upgraded, 3 newly installed, 0 to remove and 39 not upgraded.\n",
            "Need to get 4,816 kB of archives.\n",
            "After this operation, 15.6 MB of additional disk space will be used.\n",
            "Get:1 http://archive.ubuntu.com/ubuntu jammy/universe amd64 tesseract-ocr-eng all 1:4.00~git30-7274cfa-1.1 [1,591 kB]\n",
            "Get:2 http://archive.ubuntu.com/ubuntu jammy/universe amd64 tesseract-ocr-osd all 1:4.00~git30-7274cfa-1.1 [2,990 kB]\n",
            "Get:3 http://archive.ubuntu.com/ubuntu jammy/universe amd64 tesseract-ocr amd64 4.1.1-2.1build1 [236 kB]\n",
            "Fetched 4,816 kB in 1s (5,171 kB/s)\n",
            "Selecting previously unselected package tesseract-ocr-eng.\n",
            "(Reading database ... 121753 files and directories currently installed.)\n",
            "Preparing to unpack .../tesseract-ocr-eng_1%3a4.00~git30-7274cfa-1.1_all.deb ...\n",
            "Unpacking tesseract-ocr-eng (1:4.00~git30-7274cfa-1.1) ...\n",
            "Selecting previously unselected package tesseract-ocr-osd.\n",
            "Preparing to unpack .../tesseract-ocr-osd_1%3a4.00~git30-7274cfa-1.1_all.deb ...\n",
            "Unpacking tesseract-ocr-osd (1:4.00~git30-7274cfa-1.1) ...\n",
            "Selecting previously unselected package tesseract-ocr.\n",
            "Preparing to unpack .../tesseract-ocr_4.1.1-2.1build1_amd64.deb ...\n",
            "Unpacking tesseract-ocr (4.1.1-2.1build1) ...\n",
            "Setting up tesseract-ocr-eng (1:4.00~git30-7274cfa-1.1) ...\n",
            "Setting up tesseract-ocr-osd (1:4.00~git30-7274cfa-1.1) ...\n",
            "Setting up tesseract-ocr (4.1.1-2.1build1) ...\n",
            "Processing triggers for man-db (2.10.2-1) ...\n",
            "Reading package lists... Done\n",
            "Building dependency tree... Done\n",
            "Reading state information... Done\n",
            "The following additional packages will be installed:\n",
            "  libarchive-dev libleptonica-dev\n",
            "The following NEW packages will be installed:\n",
            "  libarchive-dev libleptonica-dev libtesseract-dev\n",
            "0 upgraded, 3 newly installed, 0 to remove and 39 not upgraded.\n",
            "Need to get 3,743 kB of archives.\n",
            "After this operation, 16.0 MB of additional disk space will be used.\n",
            "Get:1 http://archive.ubuntu.com/ubuntu jammy/main amd64 libarchive-dev amd64 3.6.0-1ubuntu1 [581 kB]\n",
            "Get:2 http://archive.ubuntu.com/ubuntu jammy/universe amd64 libleptonica-dev amd64 1.82.0-3build1 [1,562 kB]\n",
            "Get:3 http://archive.ubuntu.com/ubuntu jammy/universe amd64 libtesseract-dev amd64 4.1.1-2.1build1 [1,600 kB]\n",
            "Fetched 3,743 kB in 1s (4,744 kB/s)\n",
            "Selecting previously unselected package libarchive-dev:amd64.\n",
            "(Reading database ... 121800 files and directories currently installed.)\n",
            "Preparing to unpack .../libarchive-dev_3.6.0-1ubuntu1_amd64.deb ...\n",
            "Unpacking libarchive-dev:amd64 (3.6.0-1ubuntu1) ...\n",
            "Selecting previously unselected package libleptonica-dev.\n",
            "Preparing to unpack .../libleptonica-dev_1.82.0-3build1_amd64.deb ...\n",
            "Unpacking libleptonica-dev (1.82.0-3build1) ...\n",
            "Selecting previously unselected package libtesseract-dev:amd64.\n",
            "Preparing to unpack .../libtesseract-dev_4.1.1-2.1build1_amd64.deb ...\n",
            "Unpacking libtesseract-dev:amd64 (4.1.1-2.1build1) ...\n",
            "Setting up libleptonica-dev (1.82.0-3build1) ...\n",
            "Setting up libarchive-dev:amd64 (3.6.0-1ubuntu1) ...\n",
            "Setting up libtesseract-dev:amd64 (4.1.1-2.1build1) ...\n",
            "Processing triggers for man-db (2.10.2-1) ...\n"
          ]
        }
      ],
      "source": [
        "%pip install flask-ngrok\n",
        "%pip install pytesseract\n",
        "\n",
        "!apt install tesseract-ocr\n",
        "!apt install libtesseract-dev"
      ]
    },
    {
      "cell_type": "code",
      "execution_count": null,
      "metadata": {
        "colab": {
          "base_uri": "https://localhost:8080/"
        },
        "id": "OsABsLiqdy38",
        "outputId": "29253fa0-3ff8-4d80-b221-2f60eb2366d9"
      },
      "outputs": [
        {
          "name": "stdout",
          "output_type": "stream",
          "text": [
            "Requirement already satisfied: pytesseract in /usr/local/lib/python3.10/dist-packages (0.3.10)\n",
            "Requirement already satisfied: packaging>=21.3 in /usr/local/lib/python3.10/dist-packages (from pytesseract) (24.0)\n",
            "Requirement already satisfied: Pillow>=8.0.0 in /usr/local/lib/python3.10/dist-packages (from pytesseract) (9.4.0)\n"
          ]
        }
      ],
      "source": [
        "!pip install pytesseract"
      ]
    },
    {
      "cell_type": "code",
      "execution_count": null,
      "metadata": {
        "colab": {
          "base_uri": "https://localhost:8080/"
        },
        "id": "--hajGKkhvtR",
        "outputId": "55edf9a6-2cf6-40de-abbf-6bf62fefff25"
      },
      "outputs": [
        {
          "name": "stdout",
          "output_type": "stream",
          "text": [
            "Collecting tesseract\n",
            "  Downloading tesseract-0.1.3.tar.gz (45.6 MB)\n",
            "\u001b[2K     \u001b[90m━━━━━━━━━━━━━━━━━━━━━━━━━━━━━━━━━━━━━━━━\u001b[0m \u001b[32m45.6/45.6 MB\u001b[0m \u001b[31m11.5 MB/s\u001b[0m eta \u001b[36m0:00:00\u001b[0m\n",
            "\u001b[?25h  Preparing metadata (setup.py) ... \u001b[?25l\u001b[?25hdone\n",
            "Building wheels for collected packages: tesseract\n",
            "  Building wheel for tesseract (setup.py) ... \u001b[?25l\u001b[?25hdone\n",
            "  Created wheel for tesseract: filename=tesseract-0.1.3-py3-none-any.whl size=45562552 sha256=a1e734e54b3b0f4738fc4788adc094c6983a449281a400ebdb51894411b982f0\n",
            "  Stored in directory: /root/.cache/pip/wheels/71/c9/aa/698c579693e83fdda9ad6d6f0d8f61ed986e27925ef576f109\n",
            "Successfully built tesseract\n",
            "Installing collected packages: tesseract\n",
            "Successfully installed tesseract-0.1.3\n"
          ]
        }
      ],
      "source": [
        "!pip install tesseract"
      ]
    },
    {
      "cell_type": "code",
      "execution_count": null,
      "metadata": {
        "id": "pXRXVjsVUBWn"
      },
      "outputs": [],
      "source": [
        "import cv2\n",
        "import matplotlib.pyplot as plt\n",
        "from collections import Counter\n",
        "from PIL import Image, ImageDraw\n",
        "from PIL import ImagePath\n",
        "import numpy as np\n",
        "import os\n",
        "import pandas as pd\n",
        "import json\n",
        "import tensorflow as tf\n",
        "import pytesseract\n",
        "import shutil\n",
        "# from google.colab.patches import cv2_imshow"
      ]
    },
    {
      "cell_type": "code",
      "execution_count": null,
      "metadata": {
        "colab": {
          "base_uri": "https://localhost:8080/"
        },
        "id": "Efaqn-ffS_TA",
        "outputId": "0e127507-e421-4e2b-8911-c180316b7559"
      },
      "outputs": [
        {
          "name": "stdout",
          "output_type": "stream",
          "text": [
            "/usr/local/lib/python3.10/dist-packages/gdown/cli.py:138: FutureWarning: Option `--id` was deprecated in version 4.3.1 and will be removed in 5.0. You don't need to pass it anymore to use a file ID.\n",
            "  warnings.warn(\n",
            "Downloading...\n",
            "From (original): https://drive.google.com/uc?id=1525_Uvl9VB61O4Jt70RYGRMDOk9qXCnu\n",
            "From (redirected): https://drive.google.com/uc?id=1525_Uvl9VB61O4Jt70RYGRMDOk9qXCnu&confirm=t&uuid=768b31fe-a6cd-41f0-9adc-aa1b66a186d1\n",
            "To: /content/tablenet_model.zip\n",
            "100% 75.1M/75.1M [00:00<00:00, 117MB/s]\n"
          ]
        }
      ],
      "source": [
        "!gdown --id \"1525_Uvl9VB61O4Jt70RYGRMDOk9qXCnu\"\n",
        "!unzip -qq tablenet_model.zip\n"
      ]
    },
    {
      "cell_type": "code",
      "execution_count": null,
      "metadata": {
        "colab": {
          "base_uri": "https://localhost:8080/"
        },
        "id": "KK1aBtwpbEjk",
        "outputId": "bb7b75e3-c732-4f94-f66b-526a53166e1b"
      },
      "outputs": [
        {
          "name": "stdout",
          "output_type": "stream",
          "text": [
            "/usr/local/lib/python3.10/dist-packages/gdown/cli.py:138: FutureWarning: Option `--id` was deprecated in version 4.3.1 and will be removed in 5.0. You don't need to pass it anymore to use a file ID.\n",
            "  warnings.warn(\n",
            "Downloading...\n",
            "From: https://drive.google.com/uc?id=1ij4_eVrAIGRZBhVwtBNBgMZ7bADOWNu7\n",
            "To: /content/new.rar\n",
            "100% 75.4M/75.4M [00:00<00:00, 192MB/s]\n",
            "unzip:  cannot find or open new.zip, new.zip.zip or new.zip.ZIP.\n"
          ]
        }
      ],
      "source": [
        "!gdown --id \"1ij4_eVrAIGRZBhVwtBNBgMZ7bADOWNu7\"\n",
        "!unzip -qq new.zip\n"
      ]
    },
    {
      "cell_type": "code",
      "execution_count": null,
      "metadata": {
        "id": "rCtNnL68Tedr"
      },
      "outputs": [],
      "source": [
        "# from google.colab import drive\n",
        "# import os\n",
        "\n",
        "# # Mount Google Drive\n",
        "# drive.mount('/content/drive')\n",
        "\n"
      ]
    },
    {
      "cell_type": "code",
      "execution_count": null,
      "metadata": {
        "id": "FPWOlk1hbwpC"
      },
      "outputs": [],
      "source": [
        "# import os\n",
        "\n",
        "# # Navigate to the directory containing the zip file\n",
        "# os.chdir('/content/drive/MyDrive/')\n",
        "\n",
        "# # Unzip the file\n",
        "# !unzip -q /content/drive/MyDrive/tablenet_model.zip -d /content/\n"
      ]
    },
    {
      "cell_type": "code",
      "execution_count": null,
      "metadata": {
        "id": "ivqML9vSUO7t"
      },
      "outputs": [],
      "source": [
        "model = tf.keras.models.load_model('./saved_model')"
      ]
    },
    {
      "cell_type": "code",
      "execution_count": null,
      "metadata": {
        "id": "qgV9jlDjJJyI"
      },
      "outputs": [],
      "source": [
        "import os\n",
        "import shutil\n",
        "\n",
        "# Function to delete folder contents if it exists\n",
        "def delete_folder_contents(folder_path):\n",
        "    if os.path.exists(folder_path):\n",
        "        shutil.rmtree(folder_path)\n",
        "\n",
        "# Paths for folders\n",
        "temp_folder = \"/content/temp\"\n",
        "output_folder = \"/content/output\"\n",
        "\n",
        "# Delete contents of folders if they exist\n",
        "delete_folder_contents(temp_folder)\n",
        "delete_folder_contents(output_folder)\n",
        "\n",
        "# Create folders\n",
        "os.mkdir(temp_folder)\n",
        "os.mkdir(output_folder)"
      ]
    },
    {
      "cell_type": "markdown",
      "metadata": {
        "id": "G6IZdC7jXCs3"
      },
      "source": [
        "# Helper Methods"
      ]
    },
    {
      "cell_type": "code",
      "execution_count": null,
      "metadata": {
        "id": "ia6wVJ9ZXQIr"
      },
      "outputs": [],
      "source": [
        "# given predicted boxes approximate the predicted rectangles\n",
        "def fil_approx_boxes(img):\n",
        "    cv2.imwrite(\"/content/temp/test.jpeg\",img)\n",
        "    img = cv2.imread(\"/content/temp/test.jpeg\",0)\n",
        "    img = cv2.medianBlur(img,5)\n",
        "    img = cv2.GaussianBlur(img,(13,13),0)\n",
        "    img = cv2.threshold(img, 254, 255, cv2.THRESH_BINARY)[1]\n",
        "\n",
        "    _, threshold = cv2.threshold(img, 254, 255, cv2.THRESH_BINARY_INV)\n",
        "    contours,_ = cv2.findContours(threshold, cv2.RETR_TREE , cv2.CHAIN_APPROX_SIMPLE)\n",
        "    for cnt in contours:\n",
        "        x,y,w,h = cv2.boundingRect(cnt)\n",
        "        if x==0 or y==0:\n",
        "            continue\n",
        "        cv2.rectangle(img,(x,y),(x+w,y+h),(255,255,255),-1)\n",
        "\n",
        "    img = cv2.GaussianBlur(img,(13,13),0)\n",
        "    img = cv2.threshold(img, 254, 255, cv2.THRESH_BINARY)[1]\n",
        "    return img"
      ]
    },
    {
      "cell_type": "code",
      "execution_count": null,
      "metadata": {
        "id": "BdBmDpMrQpVn"
      },
      "outputs": [],
      "source": [
        "# Save data into respective CSV Files\n",
        "def save_to_csv(csv_name,data):\n",
        "  delim = \" \"\n",
        "  if data.find(\",\") != -1:\n",
        "    delim = \",\"\n",
        "  elif data.find(\"|\") != -1:\n",
        "    delim = \"|\"\n",
        "\n",
        "  data_arr = data.split(\"\\n\")\n",
        "  data_arr = [arr for arr in data_arr if len(arr.strip()) != 0]\n",
        "  with open(csv_name+\".csv\",'w') as file:\n",
        "    for line in data_arr:\n",
        "      line = line.replace(delim,\",\")\n",
        "      file.write(line+\"\\n\")\n",
        "    file.close()\n"
      ]
    },
    {
      "cell_type": "code",
      "execution_count": null,
      "metadata": {
        "id": "fiiQQDFiYR5J"
      },
      "outputs": [],
      "source": [
        "#  Given masked image, Save both tables and extract text from each\n",
        "def extract_text(img_path=\"/content/temp/final_masked.jpeg\"):\n",
        "  img = cv2.imread(img_path,0)\n",
        "  org_img = img\n",
        "  img = cv2.GaussianBlur(img,(13,13),0)\n",
        "  img = cv2.threshold(img, 0,255, cv2.THRESH_BINARY)[1]\n",
        "  kernel = np.array([[-1,-1,-1], [-1,9,-1], [-1,-1,-1]])\n",
        "\n",
        "  _, threshold = cv2.threshold(img, 254, 255, cv2.THRESH_BINARY_INV)\n",
        "  contours,_ = cv2.findContours(threshold, cv2.RETR_TREE , cv2.CHAIN_APPROX_SIMPLE)\n",
        "  idx = 1\n",
        "  for cnt in contours:\n",
        "    file_name = \"/content/output/Table_\"+str(idx)\n",
        "    x,y,w,h = cv2.boundingRect(cnt)\n",
        "    if x==0 or y==0 or w*h < 20000:\n",
        "        continue\n",
        "\n",
        "    roi = org_img[y:y+h, x:x+w]\n",
        "    roi = cv2.filter2D(roi, -1, kernel)\n",
        "    roi = cv2.resize(roi, (int(w*1.25),int(h*1.25)), interpolation = cv2.INTER_AREA)\n",
        "    # cv2_imshow(roi)\n",
        "    data = pytesseract.image_to_string(roi,config='--psm 6',lang='eng')\n",
        "    cv2.imwrite(file_name+\".jpeg\",roi)\n",
        "    save_to_csv(file_name,data)\n",
        "\n",
        "    idx += 1\n"
      ]
    },
    {
      "cell_type": "code",
      "execution_count": null,
      "metadata": {
        "id": "sHzE62TnKS3K"
      },
      "outputs": [],
      "source": [
        "# predict table and column masks and display\n",
        "def predict_table_masks(img):\n",
        "  res1, res2 = model.predict(np.array([img]))\n",
        "  res1 =  np.expand_dims(np.argmax(res1[0], axis=-1), axis=-1)\n",
        "  res2 = np.expand_dims(np.argmax(res2[0], axis=-1), axis=-1)\n",
        "  pred_col = np.squeeze(np.where(res1==1,255,0))\n",
        "  pred_table = np.squeeze(np.where(res2==1,255,0))\n",
        "\n",
        "  return fil_approx_boxes(pred_table),fil_approx_boxes(pred_col)\n"
      ]
    },
    {
      "cell_type": "code",
      "execution_count": null,
      "metadata": {
        "id": "qAKMKW2NXTli"
      },
      "outputs": [],
      "source": [
        "import time\n",
        "# Predict masks and extract text\n",
        "def predict_and_extract(img_path):\n",
        "  for file_name in os.listdir(\"/content/output\"):\n",
        "    os.remove(\"/content/output/\"+file_name)\n",
        "\n",
        "  image = tf.io.read_file(img_path)\n",
        "  org_image = tf.image.decode_image(image, channels=3)\n",
        "  h,w = org_image.shape[0],org_image.shape[1]\n",
        "\n",
        "  image = tf.image.resize(org_image, [800, 800])\n",
        "  pred_table, pred_col = predict_table_masks(image)\n",
        "  tab = np.where(pred_table == 0,0,1)\n",
        "  mask = np.expand_dims(tab,axis=2)\n",
        "  mask = np.concatenate((mask,mask,mask),axis=2)\n",
        "  cv2.imwrite(\"/content/temp/mask.jpeg\",mask)\n",
        "\n",
        "  mask = cv2.resize(cv2.imread(\"/content/temp/mask.jpeg\"), (w,h), interpolation = cv2.INTER_AREA)\n",
        "  masked_img= org_image.numpy() * mask\n",
        "  cv2.imwrite(\"/content/temp/final_masked.jpeg\",masked_img)\n",
        "  extract_text()\n",
        "  shutil.make_archive('output', 'zip', \"output/\")\n",
        "  time.sleep(3)"
      ]
    },
    {
      "cell_type": "code",
      "execution_count": null,
      "metadata": {
        "id": "0TcDf7zniBzv"
      },
      "outputs": [],
      "source": [
        "# !apt-get install tesseract-ocr\n"
      ]
    },
    {
      "cell_type": "code",
      "execution_count": null,
      "metadata": {
        "id": "1T8m1t37ScZ8"
      },
      "outputs": [],
      "source": [
        "# predict_and_extract(\"/content/A.bmp\")"
      ]
    },
    {
      "cell_type": "markdown",
      "metadata": {
        "id": "2xJBHh7_URhT"
      },
      "source": [
        "# Flask Server"
      ]
    },
    {
      "cell_type": "code",
      "execution_count": null,
      "metadata": {
        "id": "1RZT5SRbHwAM"
      },
      "outputs": [],
      "source": [
        "# !pip install flask\n",
        "# !pip install pyngrok\n",
        "# AUTH :  2eKHWPgvraFcBFPr9WWFNaIHBQW_6tMCgAaAQQZ7wjjyEVzZm"
      ]
    },
    {
      "cell_type": "code",
      "execution_count": null,
      "metadata": {
        "colab": {
          "base_uri": "https://localhost:8080/"
        },
        "id": "UnKqGYZtXsn4",
        "outputId": "b0e5f5be-e199-4abe-b94a-8a28d170bd88"
      },
      "outputs": [
        {
          "name": "stdout",
          "output_type": "stream",
          "text": [
            "Collecting pyngrok\n",
            "  Downloading pyngrok-7.1.6-py3-none-any.whl (22 kB)\n",
            "Requirement already satisfied: PyYAML>=5.1 in /usr/local/lib/python3.10/dist-packages (from pyngrok) (6.0.1)\n",
            "Installing collected packages: pyngrok\n",
            "Successfully installed pyngrok-7.1.6\n"
          ]
        }
      ],
      "source": [
        "!pip install pyngrok"
      ]
    },
    {
      "cell_type": "code",
      "execution_count": null,
      "metadata": {
        "colab": {
          "background_save": true,
          "base_uri": "https://localhost:8080/"
        },
        "id": "dJeJOVDKPsQe",
        "outputId": "a346b491-29b7-4592-b73d-b82849ec0faf"
      },
      "outputs": [
        {
          "name": "stdout",
          "output_type": "stream",
          "text": [
            "Enter your authtoken, which can be copied from https://dashboard.ngrok.com/get-started/your-authtoken\n",
            " * ngrok tunnel \"https://8ef8-34-145-65-63.ngrok-free.app\" -> \"http://127.0.0.1:5000/\"\n",
            " * Serving Flask app '__main__'\n",
            " * Debug mode: off\n"
          ]
        },
        {
          "name": "stderr",
          "output_type": "stream",
          "text": [
            "INFO:werkzeug:\u001b[31m\u001b[1mWARNING: This is a development server. Do not use it in a production deployment. Use a production WSGI server instead.\u001b[0m\n",
            " * Running on http://127.0.0.1:5000\n",
            "INFO:werkzeug:\u001b[33mPress CTRL+C to quit\u001b[0m\n"
          ]
        }
      ],
      "source": [
        "import getpass\n",
        "import os\n",
        "import time\n",
        "from flask import Flask, render_template, request, send_from_directory, send_file\n",
        "from flask import redirect, render_template\n",
        "from pyngrok import ngrok, conf\n",
        "\n",
        "print(\"Enter your authtoken, which can be copied from https://dashboard.ngrok.com/get-started/your-authtoken\")\n",
        "conf.get_default().auth_token = getpass.getpass()\n",
        "\n",
        "app = Flask(__name__)\n",
        "\n",
        "# Open a ngrok tunnel to the HTTP server\n",
        "public_url = ngrok.connect(5000).public_url\n",
        "print(\" * ngrok tunnel \\\"{}\\\" -> \\\"http://127.0.0.1:{}/\\\"\".format(public_url, 5000))\n",
        "\n",
        "@app.route(\"/\")\n",
        "def home():\n",
        "    return render_template(\"home.html\", base_url=request.base_url)\n",
        "\n",
        "@app.route(\"/upload\", methods=['POST'])\n",
        "def upload():\n",
        "    f = request.files['file']\n",
        "    print(f.filename)\n",
        "    file_name = f.filename + f.filename.split(\".\")[-1]\n",
        "    f.save(file_name)\n",
        "    predict_and_extract(file_name)\n",
        "\n",
        "    # Introduce a delay of 10 seconds\n",
        "    time.sleep(10)\n",
        "\n",
        "    # Redirect to download.html after uploading\n",
        "    return redirect(\"/download.html\")\n",
        "\n",
        "# Route for downloading the file after delay\n",
        "@app.route(\"/download\")\n",
        "def download():\n",
        "    return send_file('/content/output.zip', as_attachment=True)\n",
        "\n",
        "# Route to render download.html\n",
        "@app.route(\"/download.html\")\n",
        "def download_html():\n",
        "    return render_template(\"download.html\")\n",
        "\n",
        "# Update any base URLs to use the public ngrok URL\n",
        "app.config[\"BASE_URL\"] = public_url\n",
        "\n",
        "app.run()"
      ]
    },
    {
      "cell_type": "code",
      "execution_count": null,
      "metadata": {
        "id": "Wm73sHXJMPbP"
      },
      "outputs": [],
      "source": [
        "\n",
        "\n",
        "\n"
      ]
    }
  ],
  "metadata": {
    "accelerator": "GPU",
    "colab": {
      "machine_shape": "hm",
      "provenance": []
    },
    "kernelspec": {
      "display_name": "Python 3",
      "name": "python3"
    },
    "language_info": {
      "codemirror_mode": {
        "name": "ipython",
        "version": 3
      },
      "file_extension": ".py",
      "mimetype": "text/x-python",
      "name": "python",
      "nbconvert_exporter": "python",
      "pygments_lexer": "ipython3",
      "version": "3.11.3"
    }
  },
  "nbformat": 4,
  "nbformat_minor": 0
}